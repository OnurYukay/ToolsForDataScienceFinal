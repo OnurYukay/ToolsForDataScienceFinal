{
 "cells": [
  {
   "cell_type": "markdown",
   "id": "eb3dbdfb",
   "metadata": {},
   "source": [
    "# Data Science Tools and Ecosystem"
   ]
  },
  {
   "cell_type": "markdown",
   "id": "a67ddc98",
   "metadata": {},
   "source": [
    "In this notebook, Data Science Tools and Ecosystem are summarized."
   ]
  },
  {
   "cell_type": "markdown",
   "id": "1baa4ffa",
   "metadata": {},
   "source": [
    "__Objectives:__\n",
    "- Objective 1\n",
    "- Objective 2\n",
    "- Objective 3"
   ]
  },
  {
   "cell_type": "markdown",
   "id": "ee0f88c0",
   "metadata": {},
   "source": [
    "Some of the popular languages that Data Scientists use are: 1-Python 2-SQL 3-R"
   ]
  },
  {
   "cell_type": "markdown",
   "id": "a7c166a7",
   "metadata": {},
   "source": [
    "Some of the commonly used libraries used by Data Scientists include: 1-Pandas 2-NumPy 3-Sckit-Learn 4-SciPy"
   ]
  },
  {
   "cell_type": "markdown",
   "id": "0d398f56",
   "metadata": {},
   "source": [
    "| Data Science Tools |\n",
    "| --- |\n",
    "| Anaconda |\n",
    "| RStudio |\n",
    "| Unix Shell |"
   ]
  },
  {
   "cell_type": "markdown",
   "id": "2540cba4",
   "metadata": {},
   "source": [
    "### Below are a few examples of evaluating arithmetic expressions in Python"
   ]
  },
  {
   "cell_type": "code",
   "execution_count": 1,
   "id": "611b68e6",
   "metadata": {},
   "outputs": [
    {
     "data": {
      "text/plain": [
       "17"
      ]
     },
     "execution_count": 1,
     "metadata": {},
     "output_type": "execute_result"
    }
   ],
   "source": [
    "# This a simple arithmetic expression to mutiply then add integers.\n",
    "(3*4)+5"
   ]
  },
  {
   "cell_type": "code",
   "execution_count": 2,
   "id": "7b4d5929",
   "metadata": {},
   "outputs": [
    {
     "data": {
      "text/plain": [
       "3.3333333333333335"
      ]
     },
     "execution_count": 2,
     "metadata": {},
     "output_type": "execute_result"
    }
   ],
   "source": [
    "# This will convert 200 minutes to hours by diving by 60\n",
    "200 / 60"
   ]
  },
  {
   "cell_type": "markdown",
   "id": "a3a1da77",
   "metadata": {},
   "source": [
    "## Author :\n",
    "Ersin Onur Yukay"
   ]
  }
 ],
 "metadata": {
  "kernelspec": {
   "display_name": "Python 3 (ipykernel)",
   "language": "python",
   "name": "python3"
  },
  "language_info": {
   "codemirror_mode": {
    "name": "ipython",
    "version": 3
   },
   "file_extension": ".py",
   "mimetype": "text/x-python",
   "name": "python",
   "nbconvert_exporter": "python",
   "pygments_lexer": "ipython3",
   "version": "3.9.16"
  }
 },
 "nbformat": 4,
 "nbformat_minor": 5
}
